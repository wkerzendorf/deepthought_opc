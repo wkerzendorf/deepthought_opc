{
 "cells": [
  {
   "cell_type": "code",
   "execution_count": 23,
   "metadata": {
    "ExecuteTime": {
     "end_time": "2018-09-13T14:17:03.264456Z",
     "start_time": "2018-09-13T14:17:00.603756Z"
    }
   },
   "outputs": [],
   "source": [
    "import uuid\n",
    "import numpy as np\n",
    "import pandas as pd\n",
    "\n",
    "from sqlalchemy import create_engine\n",
    "from sqlalchemy.sql import func\n",
    "from sqlalchemy.orm import sessionmaker\n",
    "from alchemy import Referee, Base, Proposal, Review, ScoreQuantile\n",
    "import lorem\n",
    "import json\n",
    "from shutil import copyfile"
   ]
  },
  {
   "cell_type": "code",
   "execution_count": 24,
   "metadata": {},
   "outputs": [],
   "source": [
    "with open('credentials.json') as f:\n",
    "    credentials = json.load(f)\n",
    "runEnv = credentials['env'] # development = sqlite; production = mysql\n",
    "dsn = credentials[runEnv]['dbo'] # in the format <engine>://<connection_string>"
   ]
  },
  {
   "cell_type": "code",
   "execution_count": 25,
   "metadata": {
    "ExecuteTime": {
     "end_time": "2018-09-13T14:17:03.545105Z",
     "start_time": "2018-09-13T14:17:03.288612Z"
    }
   },
   "outputs": [],
   "source": [
    "if runEnv == 'test':\n",
    "    !rm dt_opc_test.db\n",
    "else:\n",
    "    engine = create_engine(dsn)\n",
    "    connection = engine.connect()\n",
    "    connection.execute('drop table if exists reviews')\n",
    "    connection.execute('drop table if exists proposals')\n",
    "    connection.execute('drop table if exists referees')\n",
    "    connection.execute('drop table if exists review_rating')\n",
    "    connection.execute('drop table if exists score_quantiles')\n",
    "    connection.close()\n",
    "!rm proposals/*.pdf"
   ]
  },
  {
   "cell_type": "code",
   "execution_count": 26,
   "metadata": {
    "ExecuteTime": {
     "end_time": "2018-09-13T14:17:03.822972Z",
     "start_time": "2018-09-13T14:17:03.798091Z"
    }
   },
   "outputs": [],
   "source": [
    "## generate 50 referees\n",
    "ref_num = 50\n",
    "\n",
    "referee_ids = [str(uuid.uuid4()).split('-')[0] for i in range(50)]\n",
    "\n",
    "## generate 50 proposals\n",
    "\n",
    "prop_num = 50\n",
    "prop_idx = np.arange(1000)\n",
    "np.random.shuffle(prop_idx)\n",
    "proposal_ids = ['103.x-{0:04d}'.format(rand_id) for rand_id in prop_idx[:50]]\n",
    "proposal_titles = [lorem.sentence() for i in range(50)]\n",
    "proposal_abstract = [lorem.paragraph() for i in range(50)]"
   ]
  },
  {
   "cell_type": "code",
   "execution_count": 27,
   "metadata": {
    "ExecuteTime": {
     "end_time": "2018-09-13T14:17:04.585928Z",
     "start_time": "2018-09-13T14:17:04.558807Z"
    }
   },
   "outputs": [],
   "source": [
    "# an Engine, which the Session will use for connection\n",
    "# resources\n",
    "#engine = create_engine('sqlite:///dt_opc_test.db')\n",
    "engine = create_engine(dsn)\n",
    "\n",
    "# create a configured \"Session\" class\n",
    "Session = sessionmaker(bind=engine)\n",
    "\n",
    "# create a Session\n",
    "session = Session()"
   ]
  },
  {
   "cell_type": "code",
   "execution_count": 28,
   "metadata": {
    "ExecuteTime": {
     "end_time": "2018-09-13T14:17:05.541785Z",
     "start_time": "2018-09-13T14:17:05.526356Z"
    }
   },
   "outputs": [],
   "source": [
    "Base.metadata.create_all(engine)"
   ]
  },
  {
   "cell_type": "code",
   "execution_count": 29,
   "metadata": {
    "ExecuteTime": {
     "end_time": "2018-09-13T14:17:06.054891Z",
     "start_time": "2018-09-13T14:17:05.960041Z"
    }
   },
   "outputs": [],
   "source": [
    "for i, ref_id in enumerate(referee_ids):\n",
    "    referee = Referee(uuid=ref_id)\n",
    "    referee.proposal_submitted_id = i+1\n",
    "    session.add(referee)"
   ]
  },
  {
   "cell_type": "code",
   "execution_count": 30,
   "metadata": {
    "ExecuteTime": {
     "end_time": "2018-09-13T14:17:06.686752Z",
     "start_time": "2018-09-13T14:17:06.679557Z"
    }
   },
   "outputs": [],
   "source": [
    "for i, prop_id in enumerate(proposal_ids):\n",
    "    session.add(Proposal(eso_id=prop_id, title=proposal_titles[i], \n",
    "                         abstract=proposal_abstract[i]))\n",
    "    # make a dummy pdf file:\n",
    "    copyfile('proposals/placeholder.pdf.master', 'proposals/'+prop_id+'.pdf')    "
   ]
  },
  {
   "cell_type": "code",
   "execution_count": 31,
   "metadata": {
    "ExecuteTime": {
     "end_time": "2018-09-13T14:17:10.242600Z",
     "start_time": "2018-09-13T14:17:10.174977Z"
    }
   },
   "outputs": [],
   "source": [
    "session.commit()"
   ]
  },
  {
   "cell_type": "code",
   "execution_count": 32,
   "metadata": {
    "ExecuteTime": {
     "end_time": "2018-09-13T14:17:10.909227Z",
     "start_time": "2018-09-13T14:17:10.695647Z"
    }
   },
   "outputs": [],
   "source": [
    "for ref in session.query(Referee):\n",
    "    for prop in np.random.choice(session.query(Proposal).all(), size=8).tolist():\n",
    "        ref.proposals.append(prop)"
   ]
  },
  {
   "cell_type": "code",
   "execution_count": 33,
   "metadata": {
    "ExecuteTime": {
     "end_time": "2018-09-13T14:17:11.115430Z",
     "start_time": "2018-09-13T14:17:11.089962Z"
    }
   },
   "outputs": [],
   "source": [
    "session.commit()"
   ]
  },
  {
   "cell_type": "code",
   "execution_count": 34,
   "metadata": {
    "ExecuteTime": {
     "end_time": "2018-09-13T14:18:34.171604Z",
     "start_time": "2018-09-13T14:18:33.981594Z"
    }
   },
   "outputs": [],
   "source": [
    "np.random.seed = 25081980\n",
    "for ref in session.query(Referee):\n",
    "    # 90% of referees are finished, for round 2\n",
    "    if np.random.random() > 0.1:\n",
    "        ref.accepted_tou = True\n",
    "        ref.finalized_submission = True\n",
    "        for review in ref.reviews:\n",
    "            review.comment = lorem.paragraph()\n",
    "            review.score = np.random.uniform(1, 5)\n",
    "            review.ref_knowledge = np.random.randint(3) + 1\n",
    "            if np.random.random() > 0.8:\n",
    "                review.conflicted = np.random.randint(2) + 1\n",
    "    else:\n",
    "        ref.accepted_tou = False\n",
    "        \n",
    "    # 20% of referees are finished\n",
    "#    if np.random.random() > 0.8: \n",
    "#        ref.accepted_tou = True\n",
    "#        for review in ref.reviews:\n",
    "#            review.comment = lorem.paragraph()\n",
    "#            review.score = np.random.uniform(1, 5)\n",
    "#            review.ref_knowledge = np.random.randint(3) + 1\n",
    "#            if np.random.random() > 0.8:\n",
    "#                review.conflicted = np.random.randint(2) + 1\n",
    "#        ref.finalized_submission = True\n",
    "    # 60% have accepted tou and done some work; remaining 20% haven't accepted tou or done work yet\n",
    "#    elif np.random.random() > 0.2:\n",
    "#        ref.accepted_tou = True\n",
    "#        for review in ref.reviews:\n",
    "#            if np.random.random() > 0.5:\n",
    "#                review.comment = lorem.paragraph()\n",
    "#            if np.random.random() > 0.5:\n",
    "#                review.score = np.random.uniform(-1, 7)\n",
    "#            if np.random.random() > 0.5:\n",
    "#                review.ref_knowledge = np.random.randint(3) + 1\n",
    "#            if np.random.random() > 0.8:\n",
    "#                review.conflicted = np.random.randint(2) + 1\n"
   ]
  },
  {
   "cell_type": "code",
   "execution_count": 35,
   "metadata": {
    "ExecuteTime": {
     "end_time": "2018-09-13T14:18:35.950496Z",
     "start_time": "2018-09-13T14:18:35.938424Z"
    }
   },
   "outputs": [],
   "source": [
    "session.commit()\n"
   ]
  },
  {
   "cell_type": "code",
   "execution_count": 36,
   "metadata": {},
   "outputs": [],
   "source": [
    "# calculate the avg score for each proposal\n",
    "proposal_score_averages = session.query(func.avg(Review.score).label('avg')).group_by(Review.proposal_id).all()\n",
    "df = pd.DataFrame(proposal_score_averages)\n",
    "\n",
    "# calculate the score quartiles and store them in the db\n",
    "quartiles = df.quantile([0.25, 0.5, 0.75])\n",
    "for i, q in quartiles.itertuples():\n",
    "    score_quantile = ScoreQuantile(quantile_name=i, score=q)\n",
    "    session.add(score_quantile)\n",
    "session.commit()"
   ]
  },
  {
   "cell_type": "code",
   "execution_count": 37,
   "metadata": {
    "ExecuteTime": {
     "end_time": "2018-08-22T12:44:04.053831Z",
     "start_time": "2018-08-22T12:44:03.924203Z"
    }
   },
   "outputs": [],
   "source": [
    "if runEnv == 'test':\n",
    "    !cp dt_opc_test.db dt_opc_test.db.bak"
   ]
  },
  {
   "cell_type": "code",
   "execution_count": 38,
   "metadata": {
    "ExecuteTime": {
     "end_time": "2018-09-13T14:18:43.691216Z",
     "start_time": "2018-09-13T14:18:43.676487Z"
    }
   },
   "outputs": [],
   "source": [
    "test_ref = session.query(Referee).first()"
   ]
  }
 ],
 "metadata": {
  "kernelspec": {
   "display_name": "Python 3",
   "language": "python",
   "name": "python3"
  },
  "language_info": {
   "codemirror_mode": {
    "name": "ipython",
    "version": 3
   },
   "file_extension": ".py",
   "mimetype": "text/x-python",
   "name": "python",
   "nbconvert_exporter": "python",
   "pygments_lexer": "ipython3",
   "version": "3.7.1"
  },
  "toc": {
   "nav_menu": {},
   "number_sections": true,
   "sideBar": true,
   "skip_h1_title": false,
   "toc_cell": false,
   "toc_position": {},
   "toc_section_display": "block",
   "toc_window_display": false
  }
 },
 "nbformat": 4,
 "nbformat_minor": 2
}
