{
 "cells": [
  {
   "cell_type": "code",
   "execution_count": 1,
   "metadata": {
    "ExecuteTime": {
     "end_time": "2018-08-22T10:24:03.763787Z",
     "start_time": "2018-08-22T10:24:02.989422Z"
    }
   },
   "outputs": [],
   "source": [
    "import uuid\n",
    "import numpy as np\n",
    "\n",
    "from sqlalchemy import create_engine\n",
    "from sqlalchemy.orm import sessionmaker\n",
    "from alchemy import Referee, Base, Proposal\n",
    "import lorem"
   ]
  },
  {
   "cell_type": "code",
   "execution_count": 2,
   "metadata": {
    "ExecuteTime": {
     "end_time": "2018-08-22T10:24:03.888644Z",
     "start_time": "2018-08-22T10:24:03.765983Z"
    }
   },
   "outputs": [],
   "source": [
    "!rm dt_opc_test.db"
   ]
  },
  {
   "cell_type": "code",
   "execution_count": 3,
   "metadata": {
    "ExecuteTime": {
     "end_time": "2018-08-22T10:24:03.908732Z",
     "start_time": "2018-08-22T10:24:03.897581Z"
    }
   },
   "outputs": [],
   "source": [
    "## generate 50 referees\n",
    "ref_num = 50\n",
    "\n",
    "referee_ids = [str(uuid.uuid4()).split('-')[0] for i in range(50)]\n",
    "\n",
    "## generate 50 proposals\n",
    "\n",
    "prop_num = 50\n",
    "prop_idx = np.arange(1000)\n",
    "np.random.shuffle(prop_idx)\n",
    "proposal_ids = ['103.x-{0:04d}'.format(rand_id) for rand_id in prop_idx[:50]]\n",
    "proposal_titles = [lorem.sentence() for i in range(50)]\n",
    "proposal_abstract = [lorem.paragraph() for i in range(50)]"
   ]
  },
  {
   "cell_type": "code",
   "execution_count": 4,
   "metadata": {
    "ExecuteTime": {
     "end_time": "2018-08-22T10:24:04.311031Z",
     "start_time": "2018-08-22T10:24:04.298372Z"
    }
   },
   "outputs": [],
   "source": [
    "# an Engine, which the Session will use for connection\n",
    "# resources\n",
    "engine = create_engine('sqlite:///dt_opc_test.db')\n",
    "\n",
    "# create a configured \"Session\" class\n",
    "Session = sessionmaker(bind=engine)\n",
    "\n",
    "# create a Session\n",
    "session = Session()"
   ]
  },
  {
   "cell_type": "code",
   "execution_count": 5,
   "metadata": {
    "ExecuteTime": {
     "end_time": "2018-08-22T10:24:04.977031Z",
     "start_time": "2018-08-22T10:24:04.966007Z"
    }
   },
   "outputs": [],
   "source": [
    "Base.metadata.create_all(engine)"
   ]
  },
  {
   "cell_type": "code",
   "execution_count": 6,
   "metadata": {
    "ExecuteTime": {
     "end_time": "2018-08-22T10:24:05.519814Z",
     "start_time": "2018-08-22T10:24:05.510293Z"
    }
   },
   "outputs": [],
   "source": [
    "for ref_id in referee_ids:\n",
    "    session.add(Referee(uuid=ref_id))"
   ]
  },
  {
   "cell_type": "code",
   "execution_count": 7,
   "metadata": {
    "ExecuteTime": {
     "end_time": "2018-08-22T10:24:06.033534Z",
     "start_time": "2018-08-22T10:24:06.028576Z"
    }
   },
   "outputs": [],
   "source": [
    "for i, prop_id in enumerate(proposal_ids):\n",
    "    session.add(Proposal(eso_id=prop_id, title=proposal_titles[i], \n",
    "                         abstract=proposal_abstract[i]))"
   ]
  },
  {
   "cell_type": "code",
   "execution_count": 8,
   "metadata": {
    "ExecuteTime": {
     "end_time": "2018-08-22T10:24:07.343129Z",
     "start_time": "2018-08-22T10:24:07.326024Z"
    }
   },
   "outputs": [],
   "source": [
    "session.commit()"
   ]
  },
  {
   "cell_type": "code",
   "execution_count": 9,
   "metadata": {
    "ExecuteTime": {
     "end_time": "2018-08-22T10:24:11.004511Z",
     "start_time": "2018-08-22T10:24:10.877965Z"
    }
   },
   "outputs": [],
   "source": [
    "for ref in session.query(Referee):\n",
    "    for prop in np.random.choice(session.query(Proposal).all(), size=8).tolist():\n",
    "        ref.proposals.append(prop)"
   ]
  },
  {
   "cell_type": "code",
   "execution_count": 25,
   "metadata": {
    "ExecuteTime": {
     "end_time": "2018-08-22T12:40:35.637419Z",
     "start_time": "2018-08-22T12:40:35.630339Z"
    }
   },
   "outputs": [],
   "source": [
    "session.commit()"
   ]
  },
  {
   "cell_type": "code",
   "execution_count": 27,
   "metadata": {
    "ExecuteTime": {
     "end_time": "2018-08-22T12:40:56.252038Z",
     "start_time": "2018-08-22T12:40:56.246284Z"
    }
   },
   "outputs": [
    {
     "data": {
      "text/plain": [
       "0.4609193657439291"
      ]
     },
     "execution_count": 27,
     "metadata": {},
     "output_type": "execute_result"
    }
   ],
   "source": []
  },
  {
   "cell_type": "code",
   "execution_count": 38,
   "metadata": {
    "ExecuteTime": {
     "end_time": "2018-08-22T12:43:35.416465Z",
     "start_time": "2018-08-22T12:43:35.317035Z"
    }
   },
   "outputs": [],
   "source": [
    "np.random.seed = 25081980\n",
    "for ref in session.query(Referee):\n",
    "    for review in ref.reviews:\n",
    "        if np.random.random() > 0.5:\n",
    "            review.comment = lorem.paragraph()\n",
    "        if np.random.random() > 0.5:\n",
    "            review.score = np.random.uniform(-1, 7)\n",
    "        if np.random.random() > 0.5:\n",
    "            review.ref_knowledge = np.random.randint(3) + 1\n",
    "            "
   ]
  },
  {
   "cell_type": "code",
   "execution_count": 39,
   "metadata": {
    "ExecuteTime": {
     "end_time": "2018-08-22T12:43:40.421836Z",
     "start_time": "2018-08-22T12:43:40.413850Z"
    }
   },
   "outputs": [],
   "source": [
    "session.commit()"
   ]
  },
  {
   "cell_type": "code",
   "execution_count": 41,
   "metadata": {
    "ExecuteTime": {
     "end_time": "2018-08-22T12:44:04.053831Z",
     "start_time": "2018-08-22T12:44:03.924203Z"
    }
   },
   "outputs": [],
   "source": [
    "!cp dt_opc_test.db dt_opc_test.db.bak"
   ]
  },
  {
   "cell_type": "code",
   "execution_count": 14,
   "metadata": {
    "ExecuteTime": {
     "end_time": "2018-08-22T10:25:02.352866Z",
     "start_time": "2018-08-22T10:25:02.349379Z"
    }
   },
   "outputs": [],
   "source": [
    "test_ref = session.query(Referee).first()"
   ]
  },
  {
   "cell_type": "code",
   "execution_count": 19,
   "metadata": {
    "ExecuteTime": {
     "end_time": "2018-08-22T10:25:35.599871Z",
     "start_time": "2018-08-22T10:25:35.597035Z"
    }
   },
   "outputs": [],
   "source": [
    "test_ref.reviews[0].ref_knowledge"
   ]
  },
  {
   "cell_type": "code",
   "execution_count": 21,
   "metadata": {
    "ExecuteTime": {
     "end_time": "2018-08-22T12:29:32.578904Z",
     "start_time": "2018-08-22T12:29:32.574719Z"
    }
   },
   "outputs": [
    {
     "data": {
      "text/plain": [
       "<Referee d6cae8ee>"
      ]
     },
     "execution_count": 21,
     "metadata": {},
     "output_type": "execute_result"
    }
   ],
   "source": [
    "test_ref"
   ]
  },
  {
   "cell_type": "code",
   "execution_count": 23,
   "metadata": {
    "ExecuteTime": {
     "end_time": "2018-08-22T12:29:39.804629Z",
     "start_time": "2018-08-22T12:29:39.679044Z"
    }
   },
   "outputs": [
    {
     "name": "stdout",
     "output_type": "stream",
     "text": [
      "total 128\r\n",
      "-rw-r--r--  1 wkerzend  staff    17B Aug 22 10:20 README.md\r\n",
      "-rw-r--r--  1 wkerzend  staff    44K Aug 22 12:24 dt_opc_test.db\r\n",
      "-rw-r--r--  1 wkerzend  staff   1.7K Aug 22 12:26 alchemy.py\r\n",
      "drwxr-xr-x  3 wkerzend  staff    96B Aug 22 14:02 \u001b[1m\u001b[36m__pycache__\u001b[m\u001b[m/\r\n",
      "-rw-r--r--  1 wkerzend  staff   5.7K Aug 22 14:14 example_database_interact.ipynb\r\n",
      "-rw-r--r--  1 wkerzend  staff   1.9K Aug 22 14:28 dt_opc.py\r\n"
     ]
    }
   ],
   "source": [
    "ls -rtlh"
   ]
  },
  {
   "cell_type": "code",
   "execution_count": null,
   "metadata": {},
   "outputs": [],
   "source": []
  }
 ],
 "metadata": {
  "kernelspec": {
   "display_name": "Python 3",
   "language": "python",
   "name": "python3"
  },
  "language_info": {
   "codemirror_mode": {
    "name": "ipython",
    "version": 3
   },
   "file_extension": ".py",
   "mimetype": "text/x-python",
   "name": "python",
   "nbconvert_exporter": "python",
   "pygments_lexer": "ipython3",
   "version": "3.6.6"
  },
  "toc": {
   "nav_menu": {},
   "number_sections": true,
   "sideBar": true,
   "skip_h1_title": false,
   "toc_cell": false,
   "toc_position": {},
   "toc_section_display": "block",
   "toc_window_display": false
  }
 },
 "nbformat": 4,
 "nbformat_minor": 2
}
