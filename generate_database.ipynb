{
 "cells": [
  {
   "cell_type": "code",
   "execution_count": 1,
   "metadata": {
    "ExecuteTime": {
     "end_time": "2018-10-03T00:25:33.038237Z",
     "start_time": "2018-10-03T00:25:32.182609Z"
    }
   },
   "outputs": [],
   "source": [
    "import uuid\n",
    "import numpy as np\n",
    "import pandas as pd\n",
    "\n",
    "from sqlalchemy import create_engine\n",
    "from sqlalchemy.orm import sessionmaker\n",
    "from alchemy import Referee, Base, Proposal\n",
    "import lorem\n",
    "import json\n",
    "from shutil import copyfile\n",
    "import os\n",
    "\n",
    "import _pickle as pickle"
   ]
  },
  {
   "cell_type": "code",
   "execution_count": 3,
   "metadata": {
    "ExecuteTime": {
     "end_time": "2018-10-03T00:26:10.710894Z",
     "start_time": "2018-10-03T00:26:10.620322Z"
    }
   },
   "outputs": [
    {
     "name": "stdout",
     "output_type": "stream",
     "text": [
      "ingesting cat A\n",
      "ingesting cat B\n",
      "ingesting cat C\n",
      "ingesting cat D\n",
      "ingesting deepthought refereeing matrix\n"
     ]
    }
   ],
   "source": [
    "# getting the refereeing done:\n",
    "base_path = '/Users/wkerzend/projects/deepthought/opc/'\n",
    "assert os.path.exists(base_path)\n",
    "opc_refereeing_matrices = pickle.load(open(os.path.join(base_path, 'ref_matrix_abcd_worked.pkl'), 'rb'))\n",
    "deepthought_refereeing_matrix = pd.read_hdf(os.path.join(base_path, 'deepthought_refereeing_no_tele.h5'))\n",
    "full_dpr_list = pd.read_hdf(os.path.join(base_path, 'dpr_list.h5'), 'dpr_list')\n",
    "refereeing_list = pd.DataFrame(index=full_dpr_list.index, columns=np.arange(8), data='NA')\n",
    "for cat, ref_matrix in opc_refereeing_matrices.items():\n",
    "    print('ingesting cat', cat)\n",
    "    for author_id, ref_row in ref_matrix.iterrows():\n",
    "        refereeing_list.loc[author_id] = ref_matrix.columns[ref_row.values.astype(bool)]\n",
    "print('ingesting deepthought refereeing matrix')\n",
    "for author_id, ref_row in deepthought_refereeing_matrix.iterrows():\n",
    "    refereeing_list.loc[author_id] = deepthought_refereeing_matrix.columns[ref_row.values.astype(bool)]"
   ]
  },
  {
   "cell_type": "code",
   "execution_count": 8,
   "metadata": {
    "ExecuteTime": {
     "end_time": "2018-10-03T00:27:51.603657Z",
     "start_time": "2018-10-03T00:27:51.600159Z"
    }
   },
   "outputs": [],
   "source": [
    "with open('credentials.json') as f:\n",
    "    credentials = json.load(f)\n",
    "runEnv = credentials['env'] # development = sqlite; production = mysql\n",
    "dsn = credentials[runEnv]['dbo'] # in the format <engine>://<connection_string>"
   ]
  },
  {
   "cell_type": "code",
   "execution_count": 10,
   "metadata": {
    "ExecuteTime": {
     "end_time": "2018-10-03T00:28:00.491676Z",
     "start_time": "2018-10-03T00:28:00.252284Z"
    }
   },
   "outputs": [
    {
     "name": "stdout",
     "output_type": "stream",
     "text": [
      "rm: proposals/*.pdf: No such file or directory\r\n"
     ]
    }
   ],
   "source": [
    "if runEnv == 'test':\n",
    "    !rm dt_opc_test.db\n",
    "else:\n",
    "    engine = create_engine(dsn)\n",
    "    connection = engine.connect()\n",
    "    connection.execute('drop table if exists reviews')\n",
    "    connection.execute('drop table if exists proposals')\n",
    "    connection.execute('drop table if exists referees')\n",
    "    connection.close()\n",
    "!rm proposals/*.pdf"
   ]
  },
  {
   "cell_type": "code",
   "execution_count": 11,
   "metadata": {
    "ExecuteTime": {
     "end_time": "2018-10-03T00:28:04.329829Z",
     "start_time": "2018-10-03T00:28:04.316333Z"
    }
   },
   "outputs": [
    {
     "ename": "NameError",
     "evalue": "name 'referee_ids' is not defined",
     "output_type": "error",
     "traceback": [
      "\u001b[0;31m---------------------------------------------------------------------------\u001b[0m",
      "\u001b[0;31mNameError\u001b[0m                                 Traceback (most recent call last)",
      "\u001b[0;32m<ipython-input-11-76defdba7531>\u001b[0m in \u001b[0;36m<module>\u001b[0;34m()\u001b[0m\n\u001b[0;32m----> 1\u001b[0;31m \u001b[0mdpr_id2author_id\u001b[0m \u001b[0;34m=\u001b[0m \u001b[0;34m{\u001b[0m\u001b[0mvalue\u001b[0m\u001b[0;34m:\u001b[0m\u001b[0mkey\u001b[0m \u001b[0;32mfor\u001b[0m \u001b[0mkey\u001b[0m\u001b[0;34m,\u001b[0m \u001b[0mvalue\u001b[0m \u001b[0;32min\u001b[0m \u001b[0mreferee_ids\u001b[0m\u001b[0;34m.\u001b[0m\u001b[0mto_dict\u001b[0m\u001b[0;34m(\u001b[0m\u001b[0;34m)\u001b[0m\u001b[0;34m.\u001b[0m\u001b[0mitems\u001b[0m\u001b[0;34m(\u001b[0m\u001b[0;34m)\u001b[0m\u001b[0;34m}\u001b[0m\u001b[0;34m\u001b[0m\u001b[0m\n\u001b[0m",
      "\u001b[0;31mNameError\u001b[0m: name 'referee_ids' is not defined"
     ]
    }
   ],
   "source": []
  },
  {
   "cell_type": "code",
   "execution_count": null,
   "metadata": {},
   "outputs": [],
   "source": []
  },
  {
   "cell_type": "code",
   "execution_count": 20,
   "metadata": {
    "ExecuteTime": {
     "end_time": "2018-10-03T00:32:03.160728Z",
     "start_time": "2018-10-03T00:32:03.138583Z"
    }
   },
   "outputs": [],
   "source": [
    "## generate 50 referees\n",
    "#ref_num = 50\n",
    "P103_path = '/Users/wkerzend/Dropbox/P103/'\n",
    "referee_ids = full_dpr_list.dpr_id#[str(uuid.uuid4()).split('-')[0] for i in range(50)]\n",
    "\n",
    "## generate 50 proposals\n",
    "\n",
    "#prop_num = 50\n",
    "#prop_idx = np.arange(1000)\n",
    "#np.random.shuffle(prop_idx)\n",
    "#proposal_ids = ['103.x-{0:04d}'.format(rand_id) for rand_id in prop_idx[:50]]\n",
    "proposal_ids = full_dpr_list.PCODE.tolist()\n",
    "proposal_titles = full_dpr_list.TITLE.tolist() #[lorem.sentence() for i in range(50)]\n",
    "proposal_abstracts = [open(os.path.join(P103_path, 'LATEX', pcode +'_abstract.txt'), 'r', encoding='utf8').read() for pcode in proposal_ids]\n",
    "#proposal_abstract = [open(fname) for fname in proposal_ids]"
   ]
  },
  {
   "cell_type": "code",
   "execution_count": 22,
   "metadata": {
    "ExecuteTime": {
     "end_time": "2018-10-03T00:32:18.075356Z",
     "start_time": "2018-10-03T00:32:18.072225Z"
    }
   },
   "outputs": [],
   "source": [
    "dpr_id2author_id = {value:key for key, value in referee_ids.to_dict().items()}"
   ]
  },
  {
   "cell_type": "code",
   "execution_count": 23,
   "metadata": {
    "ExecuteTime": {
     "end_time": "2018-10-03T00:32:27.781231Z",
     "start_time": "2018-10-03T00:32:27.767074Z"
    }
   },
   "outputs": [],
   "source": [
    "# an Engine, which the Session will use for connection\n",
    "# resources\n",
    "#engine = create_engine('sqlite:///dt_opc_test.db')\n",
    "engine = create_engine(dsn)\n",
    "\n",
    "# create a configured \"Session\" class\n",
    "Session = sessionmaker(bind=engine)\n",
    "\n",
    "# create a Session\n",
    "session = Session()"
   ]
  },
  {
   "cell_type": "code",
   "execution_count": 24,
   "metadata": {
    "ExecuteTime": {
     "end_time": "2018-10-03T00:32:29.086598Z",
     "start_time": "2018-10-03T00:32:29.070926Z"
    }
   },
   "outputs": [],
   "source": [
    "Base.metadata.create_all(engine)"
   ]
  },
  {
   "cell_type": "code",
   "execution_count": 25,
   "metadata": {
    "ExecuteTime": {
     "end_time": "2018-10-03T00:32:36.701461Z",
     "start_time": "2018-10-03T00:32:36.686073Z"
    }
   },
   "outputs": [],
   "source": [
    "for ref_id in referee_ids:\n",
    "    session.add(Referee(uuid=ref_id))"
   ]
  },
  {
   "cell_type": "code",
   "execution_count": 27,
   "metadata": {
    "ExecuteTime": {
     "end_time": "2018-10-03T00:32:46.772550Z",
     "start_time": "2018-10-03T00:32:46.763563Z"
    }
   },
   "outputs": [],
   "source": [
    "for i, prop_id in enumerate(proposal_ids):\n",
    "    session.add(Proposal(eso_id=prop_id, title=proposal_titles[i], \n",
    "                         abstract=proposal_abstracts[i]))\n",
    "    # make a dummy pdf file:\n",
    "    #copyfile('proposals/placeholder.pdf.master', 'proposals/'+prop_id+'.pdf')    "
   ]
  },
  {
   "cell_type": "code",
   "execution_count": 28,
   "metadata": {
    "ExecuteTime": {
     "end_time": "2018-10-03T00:32:50.033135Z",
     "start_time": "2018-10-03T00:32:49.987761Z"
    }
   },
   "outputs": [],
   "source": [
    "session.commit()"
   ]
  },
  {
   "cell_type": "code",
   "execution_count": 57,
   "metadata": {
    "ExecuteTime": {
     "end_time": "2018-10-02T00:48:00.955700Z",
     "start_time": "2018-10-02T00:48:00.949409Z"
    }
   },
   "outputs": [
    {
     "data": {
      "text/plain": [
       "0    0103.B-0375\n",
       "1    0103.B-0737\n",
       "2    0103.B-0911\n",
       "3    0103.B-0845\n",
       "4    0103.A-0374\n",
       "5    0103.B-0926\n",
       "6    0103.A-0410\n",
       "7    0103.B-0869\n",
       "Name: d. sobral, dtype: object"
      ]
     },
     "execution_count": 57,
     "metadata": {},
     "output_type": "execute_result"
    }
   ],
   "source": [
    "cur_author_id = dpr_id2author_id[ref.uuid]\n",
    "refereeing_list.loc[cur_author_id]"
   ]
  },
  {
   "cell_type": "code",
   "execution_count": null,
   "metadata": {},
   "outputs": [],
   "source": []
  },
  {
   "cell_type": "code",
   "execution_count": 29,
   "metadata": {
    "ExecuteTime": {
     "end_time": "2018-10-03T00:33:09.564995Z",
     "start_time": "2018-10-03T00:33:09.557559Z"
    }
   },
   "outputs": [],
   "source": [
    "for ref in session.query(Referee):\n",
    "    break\n",
    "    #for prop in np.random.choice(session.query(Proposal).all(), size=8).tolist():\n",
    "        #ref.proposals.append(prop)"
   ]
  },
  {
   "cell_type": "code",
   "execution_count": 11,
   "metadata": {
    "ExecuteTime": {
     "end_time": "2018-09-13T14:17:11.115430Z",
     "start_time": "2018-09-13T14:17:11.089962Z"
    }
   },
   "outputs": [],
   "source": [
    "session.commit()"
   ]
  },
  {
   "cell_type": "code",
   "execution_count": 12,
   "metadata": {
    "ExecuteTime": {
     "end_time": "2018-09-13T14:18:34.171604Z",
     "start_time": "2018-09-13T14:18:33.981594Z"
    }
   },
   "outputs": [],
   "source": [
    "np.random.seed = 25081980\n",
    "for ref in session.query(Referee):\n",
    "    # 20% of referees are finished\n",
    "    if np.random.random() > 0.8: \n",
    "        ref.accepted_tou = True\n",
    "        for review in ref.reviews:\n",
    "            review.comment = lorem.paragraph()\n",
    "            review.score = np.random.uniform(1, 5)\n",
    "            review.ref_knowledge = np.random.randint(3) + 1\n",
    "            if np.random.random() > 0.8:\n",
    "                review.conflicted = np.random.randint(2) + 1\n",
    "        ref.finalized_submission = True\n",
    "    # 60% have accepted tou and done some work; remaining 20% haven't accepted tou or done work yet\n",
    "    elif np.random.random() > 0.2:\n",
    "        ref.accepted_tou = True\n",
    "        for review in ref.reviews:\n",
    "            if np.random.random() > 0.5:\n",
    "                review.comment = lorem.paragraph()\n",
    "            if np.random.random() > 0.5:\n",
    "                review.score = np.random.uniform(-1, 7)\n",
    "            if np.random.random() > 0.5:\n",
    "                review.ref_knowledge = np.random.randint(3) + 1\n",
    "            if np.random.random() > 0.8:\n",
    "                review.conflicted = np.random.randint(2) + 1\n"
   ]
  },
  {
   "cell_type": "code",
   "execution_count": 13,
   "metadata": {
    "ExecuteTime": {
     "end_time": "2018-09-13T14:18:35.950496Z",
     "start_time": "2018-09-13T14:18:35.938424Z"
    }
   },
   "outputs": [],
   "source": [
    "session.commit()"
   ]
  },
  {
   "cell_type": "code",
   "execution_count": 14,
   "metadata": {
    "ExecuteTime": {
     "end_time": "2018-08-22T12:44:04.053831Z",
     "start_time": "2018-08-22T12:44:03.924203Z"
    }
   },
   "outputs": [],
   "source": [
    "if runEnv == 'test':\n",
    "    !cp dt_opc_test.db dt_opc_test.db.bak"
   ]
  },
  {
   "cell_type": "code",
   "execution_count": 15,
   "metadata": {
    "ExecuteTime": {
     "end_time": "2018-09-13T14:18:43.691216Z",
     "start_time": "2018-09-13T14:18:43.676487Z"
    }
   },
   "outputs": [],
   "source": [
    "test_ref = session.query(Referee).first()"
   ]
  },
  {
   "cell_type": "code",
   "execution_count": null,
   "metadata": {},
   "outputs": [],
   "source": []
  }
 ],
 "metadata": {
  "kernelspec": {
   "display_name": "Python 3",
   "language": "python",
   "name": "python3"
  },
  "language_info": {
   "codemirror_mode": {
    "name": "ipython",
    "version": 3
   },
   "file_extension": ".py",
   "mimetype": "text/x-python",
   "name": "python",
   "nbconvert_exporter": "python",
   "pygments_lexer": "ipython3",
   "version": "3.6.6"
  },
  "toc": {
   "nav_menu": {},
   "number_sections": true,
   "sideBar": true,
   "skip_h1_title": false,
   "toc_cell": false,
   "toc_position": {},
   "toc_section_display": "block",
   "toc_window_display": false
  }
 },
 "nbformat": 4,
 "nbformat_minor": 2
}
