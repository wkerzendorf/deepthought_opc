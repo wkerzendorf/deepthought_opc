{
 "cells": [
  {
   "cell_type": "code",
   "execution_count": 1,
   "metadata": {
    "ExecuteTime": {
     "end_time": "2018-10-03T00:25:33.038237Z",
     "start_time": "2018-10-03T00:25:32.182609Z"
    }
   },
   "outputs": [
    {
     "name": "stderr",
     "output_type": "stream",
     "text": [
      "/home/wkerzend/miniconda3/envs/deepthought/lib/python3.6/importlib/_bootstrap.py:219: RuntimeWarning: numpy.dtype size changed, may indicate binary incompatibility. Expected 96, got 88\n",
      "  return f(*args, **kwds)\n"
     ]
    }
   ],
   "source": [
    "import uuid\n",
    "import numpy as np\n",
    "import pandas as pd\n",
    "\n",
    "from sqlalchemy import create_engine\n",
    "from sqlalchemy.orm import sessionmaker\n",
    "from alchemy import Referee, Base, Proposal\n",
    "import lorem\n",
    "import json\n",
    "from shutil import copyfile\n",
    "import os\n",
    "\n",
    "import _pickle as pickle"
   ]
  },
  {
   "cell_type": "code",
   "execution_count": 2,
   "metadata": {
    "ExecuteTime": {
     "end_time": "2018-10-03T00:26:10.710894Z",
     "start_time": "2018-10-03T00:26:10.620322Z"
    }
   },
   "outputs": [
    {
     "name": "stderr",
     "output_type": "stream",
     "text": [
      "/home/wkerzend/miniconda3/envs/deepthought/lib/python3.6/importlib/_bootstrap.py:219: RuntimeWarning: numpy.dtype size changed, may indicate binary incompatibility. Expected 96, got 88\n",
      "  return f(*args, **kwds)\n"
     ]
    },
    {
     "name": "stdout",
     "output_type": "stream",
     "text": [
      "ingesting cat A\n",
      "ingesting cat B\n",
      "ingesting cat C\n",
      "ingesting cat D\n",
      "ingesting deepthought refereeing matrix\n"
     ]
    }
   ],
   "source": [
    "# getting the refereeing done:\n",
    "base_path = '/home/wkerzend/dpr_data/'\n",
    "assert os.path.exists(base_path)\n",
    "opc_refereeing_matrices = pickle.load(open(os.path.join(base_path, 'ref_matrix_abcd_worked.pkl'), 'rb'))\n",
    "deepthought_refereeing_matrix = pd.read_hdf(os.path.join(base_path, 'deepthought_refereeing_no_tele.h5'))\n",
    "full_dpr_list = pd.read_hdf(os.path.join(base_path, 'dpr_list.h5'), 'dpr_list')\n",
    "refereeing_list = pd.DataFrame(index=full_dpr_list.index, columns=np.arange(8), data='NA')\n",
    "for cat, ref_matrix in opc_refereeing_matrices.items():\n",
    "    print('ingesting cat', cat)\n",
    "    for author_id, ref_row in ref_matrix.iterrows():\n",
    "        refereeing_list.loc[author_id] = ref_matrix.columns[ref_row.values.astype(bool)]\n",
    "print('ingesting deepthought refereeing matrix')\n",
    "for author_id, ref_row in deepthought_refereeing_matrix.iterrows():\n",
    "    refereeing_list.loc[author_id] = deepthought_refereeing_matrix.columns[ref_row.values.astype(bool)]"
   ]
  },
  {
   "cell_type": "code",
   "execution_count": 3,
   "metadata": {
    "ExecuteTime": {
     "end_time": "2018-10-03T00:27:51.603657Z",
     "start_time": "2018-10-03T00:27:51.600159Z"
    }
   },
   "outputs": [],
   "source": [
    "with open('credentials.json') as f:\n",
    "    credentials = json.load(f)\n",
    "runEnv = credentials['env'] # development = sqlite; production = mysql\n",
    "dsn = credentials[runEnv]['dbo'] # in the format <engine>://<connection_string>"
   ]
  },
  {
   "cell_type": "code",
   "execution_count": 4,
   "metadata": {
    "ExecuteTime": {
     "end_time": "2018-10-03T00:28:00.491676Z",
     "start_time": "2018-10-03T00:28:00.252284Z"
    }
   },
   "outputs": [
    {
     "name": "stdout",
     "output_type": "stream",
     "text": [
      "rm: cannot remove ‘proposals/*.pdf’: No such file or directory\r\n"
     ]
    }
   ],
   "source": [
    "if runEnv == 'test':\n",
    "    !rm dt_opc_test.db\n",
    "else:\n",
    "    engine = create_engine(dsn)\n",
    "    connection = engine.connect()\n",
    "    connection.execute('drop table if exists reviews')\n",
    "    connection.execute('drop table if exists proposals')\n",
    "    connection.execute('drop table if exists referees')\n",
    "    connection.close()\n",
    "!rm proposals/*.pdf"
   ]
  },
  {
   "cell_type": "code",
   "execution_count": 5,
   "metadata": {
    "ExecuteTime": {
     "end_time": "2018-10-03T00:32:03.160728Z",
     "start_time": "2018-10-03T00:32:03.138583Z"
    }
   },
   "outputs": [],
   "source": [
    "## generate 50 referees\n",
    "#ref_num = 50\n",
    "P103_path = '/home/wkerzend/dpr_data/P103/'\n",
    "referee_ids = full_dpr_list.dpr_id#[str(uuid.uuid4()).split('-')[0] for i in range(50)]\n",
    "\n",
    "## generate 50 proposals\n",
    "\n",
    "#prop_num = 50\n",
    "#prop_idx = np.arange(1000)\n",
    "#np.random.shuffle(prop_idx)\n",
    "#proposal_ids = ['103.x-{0:04d}'.format(rand_id) for rand_id in prop_idx[:50]]\n",
    "proposal_ids = full_dpr_list.PCODE.tolist()\n",
    "proposal_titles = full_dpr_list.TITLE.tolist() #[lorem.sentence() for i in range(50)]\n",
    "proposal_abstracts = [open(os.path.join(P103_path, 'LATEX', pcode +'_abstract.txt'), 'r', encoding='utf8').read() for pcode in proposal_ids]\n",
    "proposal_abstracts = [item.encode('latin-1', errors='replace') for item in proposal_abstracts]\n",
    "#proposal_abstracts\n",
    "#proposal_abstract = [open(fname) for fname in proposal_ids]"
   ]
  },
  {
   "cell_type": "code",
   "execution_count": 6,
   "metadata": {
    "ExecuteTime": {
     "end_time": "2018-10-03T00:32:18.075356Z",
     "start_time": "2018-10-03T00:32:18.072225Z"
    }
   },
   "outputs": [],
   "source": [
    "dpr_id2author_id = {value:key for key, value in referee_ids.to_dict().items()}"
   ]
  },
  {
   "cell_type": "code",
   "execution_count": 7,
   "metadata": {
    "ExecuteTime": {
     "end_time": "2018-10-03T00:32:27.781231Z",
     "start_time": "2018-10-03T00:32:27.767074Z"
    }
   },
   "outputs": [],
   "source": [
    "# an Engine, which the Session will use for connection\n",
    "# resources\n",
    "#engine = create_engine('sqlite:///dt_opc_test.db')\n",
    "engine = create_engine(dsn)\n",
    "\n",
    "# create a configured \"Session\" class\n",
    "Session = sessionmaker(bind=engine)\n",
    "\n",
    "# create a Session\n",
    "session = Session()"
   ]
  },
  {
   "cell_type": "code",
   "execution_count": 8,
   "metadata": {
    "ExecuteTime": {
     "end_time": "2018-10-03T00:32:29.086598Z",
     "start_time": "2018-10-03T00:32:29.070926Z"
    }
   },
   "outputs": [],
   "source": [
    "Base.metadata.create_all(engine)"
   ]
  },
  {
   "cell_type": "code",
   "execution_count": 9,
   "metadata": {
    "ExecuteTime": {
     "end_time": "2018-10-03T00:32:36.701461Z",
     "start_time": "2018-10-03T00:32:36.686073Z"
    }
   },
   "outputs": [],
   "source": [
    "for ref_id in referee_ids:\n",
    "    session.add(Referee(uuid=ref_id))"
   ]
  },
  {
   "cell_type": "code",
   "execution_count": 10,
   "metadata": {
    "ExecuteTime": {
     "end_time": "2018-10-03T00:32:46.772550Z",
     "start_time": "2018-10-03T00:32:46.763563Z"
    }
   },
   "outputs": [],
   "source": [
    "for i, prop_id in enumerate(proposal_ids):\n",
    "    session.add(Proposal(eso_id=prop_id, title=proposal_titles[i], \n",
    "                         abstract=proposal_abstracts[i]))\n",
    "    # make a dummy pdf file:\n",
    "    #copyfile('proposals/placeholder.pdf.master', 'proposals/'+prop_id+'.pdf')    "
   ]
  },
  {
   "cell_type": "code",
   "execution_count": 11,
   "metadata": {
    "ExecuteTime": {
     "end_time": "2018-10-03T00:32:50.033135Z",
     "start_time": "2018-10-03T00:32:49.987761Z"
    }
   },
   "outputs": [
    {
     "name": "stderr",
     "output_type": "stream",
     "text": [
      "/home/wkerzend/miniconda3/envs/deepthought/lib/python3.6/site-packages/pymysql/cursors.py:170: Warning: (1265, \"Data truncated for column 'eso_id' at row 1\")\n",
      "  result = self._query(query)\n"
     ]
    }
   ],
   "source": [
    "session.commit()"
   ]
  },
  {
   "cell_type": "code",
   "execution_count": null,
   "metadata": {},
   "outputs": [],
   "source": [
    "prop_id"
   ]
  },
  {
   "cell_type": "code",
   "execution_count": 30,
   "metadata": {
    "ExecuteTime": {
     "end_time": "2018-10-03T00:33:09.564995Z",
     "start_time": "2018-10-03T00:33:09.557559Z"
    }
   },
   "outputs": [
    {
     "ename": "NoResultFound",
     "evalue": "No row was found for one()",
     "output_type": "error",
     "traceback": [
      "\u001b[0;31m---------------------------------------------------------------------------\u001b[0m",
      "\u001b[0;31mNoResultFound\u001b[0m                             Traceback (most recent call last)",
      "\u001b[0;32m<ipython-input-30-7c4a68f1c646>\u001b[0m in \u001b[0;36m<module>\u001b[0;34m()\u001b[0m\n\u001b[1;32m      2\u001b[0m     \u001b[0mcur_author_id\u001b[0m \u001b[0;34m=\u001b[0m \u001b[0mdpr_id2author_id\u001b[0m\u001b[0;34m[\u001b[0m\u001b[0mref\u001b[0m\u001b[0;34m.\u001b[0m\u001b[0muuid\u001b[0m\u001b[0;34m]\u001b[0m\u001b[0;34m\u001b[0m\u001b[0m\n\u001b[1;32m      3\u001b[0m     \u001b[0;32mfor\u001b[0m \u001b[0mprop_id\u001b[0m \u001b[0;32min\u001b[0m \u001b[0mrefereeing_list\u001b[0m\u001b[0;34m.\u001b[0m\u001b[0mloc\u001b[0m\u001b[0;34m[\u001b[0m\u001b[0mcur_author_id\u001b[0m\u001b[0;34m]\u001b[0m\u001b[0;34m:\u001b[0m\u001b[0;34m\u001b[0m\u001b[0m\n\u001b[0;32m----> 4\u001b[0;31m         \u001b[0mprop\u001b[0m \u001b[0;34m=\u001b[0m \u001b[0msession\u001b[0m\u001b[0;34m.\u001b[0m\u001b[0mquery\u001b[0m\u001b[0;34m(\u001b[0m\u001b[0mProposal\u001b[0m\u001b[0;34m)\u001b[0m\u001b[0;34m.\u001b[0m\u001b[0mfilter_by\u001b[0m\u001b[0;34m(\u001b[0m\u001b[0meso_id\u001b[0m\u001b[0;34m=\u001b[0m\u001b[0mprop_id\u001b[0m\u001b[0;34m)\u001b[0m\u001b[0;34m.\u001b[0m\u001b[0mone\u001b[0m\u001b[0;34m(\u001b[0m\u001b[0;34m)\u001b[0m\u001b[0;34m\u001b[0m\u001b[0m\n\u001b[0m\u001b[1;32m      5\u001b[0m     \u001b[0;31m#for prop in np.random.choice(session.query(Proposal).all(), size=8).tolist():\u001b[0m\u001b[0;34m\u001b[0m\u001b[0;34m\u001b[0m\u001b[0m\n\u001b[1;32m      6\u001b[0m         \u001b[0mref\u001b[0m\u001b[0;34m.\u001b[0m\u001b[0mproposals\u001b[0m\u001b[0;34m.\u001b[0m\u001b[0mappend\u001b[0m\u001b[0;34m(\u001b[0m\u001b[0mprop\u001b[0m\u001b[0;34m)\u001b[0m\u001b[0;34m\u001b[0m\u001b[0m\n",
      "\u001b[0;32m~/miniconda3/envs/deepthought/lib/python3.6/site-packages/sqlalchemy/orm/query.py\u001b[0m in \u001b[0;36mone\u001b[0;34m(self)\u001b[0m\n\u001b[1;32m   2951\u001b[0m         \u001b[0;32melse\u001b[0m\u001b[0;34m:\u001b[0m\u001b[0;34m\u001b[0m\u001b[0m\n\u001b[1;32m   2952\u001b[0m             \u001b[0;32mif\u001b[0m \u001b[0mret\u001b[0m \u001b[0;32mis\u001b[0m \u001b[0;32mNone\u001b[0m\u001b[0;34m:\u001b[0m\u001b[0;34m\u001b[0m\u001b[0m\n\u001b[0;32m-> 2953\u001b[0;31m                 \u001b[0;32mraise\u001b[0m \u001b[0morm_exc\u001b[0m\u001b[0;34m.\u001b[0m\u001b[0mNoResultFound\u001b[0m\u001b[0;34m(\u001b[0m\u001b[0;34m\"No row was found for one()\"\u001b[0m\u001b[0;34m)\u001b[0m\u001b[0;34m\u001b[0m\u001b[0m\n\u001b[0m\u001b[1;32m   2954\u001b[0m             \u001b[0;32mreturn\u001b[0m \u001b[0mret\u001b[0m\u001b[0;34m\u001b[0m\u001b[0m\n\u001b[1;32m   2955\u001b[0m \u001b[0;34m\u001b[0m\u001b[0m\n",
      "\u001b[0;31mNoResultFound\u001b[0m: No row was found for one()"
     ]
    }
   ],
   "source": [
    "for ref in session.query(Referee):\n",
    "    cur_author_id = dpr_id2author_id[ref.uuid]\n",
    "    for prop_id in refereeing_list.loc[cur_author_id]:\n",
    "        prop = session.query(Proposal).filter_by(eso_id=prop_id).one()\n",
    "    #for prop in np.random.choice(session.query(Proposal).all(), size=8).tolist():\n",
    "        ref.proposals.append(prop)"
   ]
  },
  {
   "cell_type": "code",
   "execution_count": 11,
   "metadata": {
    "ExecuteTime": {
     "end_time": "2018-09-13T14:17:11.115430Z",
     "start_time": "2018-09-13T14:17:11.089962Z"
    }
   },
   "outputs": [],
   "source": [
    "session.commit()"
   ]
  },
  {
   "cell_type": "code",
   "execution_count": 12,
   "metadata": {
    "ExecuteTime": {
     "end_time": "2018-09-13T14:18:34.171604Z",
     "start_time": "2018-09-13T14:18:33.981594Z"
    }
   },
   "outputs": [],
   "source": [
    "np.random.seed = 25081980\n",
    "for ref in session.query(Referee):\n",
    "    # 20% of referees are finished\n",
    "    if np.random.random() > 0.8: \n",
    "        ref.accepted_tou = True\n",
    "        for review in ref.reviews:\n",
    "            review.comment = lorem.paragraph()\n",
    "            review.score = np.random.uniform(1, 5)\n",
    "            review.ref_knowledge = np.random.randint(3) + 1\n",
    "            if np.random.random() > 0.8:\n",
    "                review.conflicted = np.random.randint(2) + 1\n",
    "        ref.finalized_submission = True\n",
    "    # 60% have accepted tou and done some work; remaining 20% haven't accepted tou or done work yet\n",
    "    elif np.random.random() > 0.2:\n",
    "        ref.accepted_tou = True\n",
    "        for review in ref.reviews:\n",
    "            if np.random.random() > 0.5:\n",
    "                review.comment = lorem.paragraph()\n",
    "            if np.random.random() > 0.5:\n",
    "                review.score = np.random.uniform(-1, 7)\n",
    "            if np.random.random() > 0.5:\n",
    "                review.ref_knowledge = np.random.randint(3) + 1\n",
    "            if np.random.random() > 0.8:\n",
    "                review.conflicted = np.random.randint(2) + 1\n"
   ]
  },
  {
   "cell_type": "code",
   "execution_count": 13,
   "metadata": {
    "ExecuteTime": {
     "end_time": "2018-09-13T14:18:35.950496Z",
     "start_time": "2018-09-13T14:18:35.938424Z"
    }
   },
   "outputs": [],
   "source": [
    "session.commit()"
   ]
  },
  {
   "cell_type": "code",
   "execution_count": 14,
   "metadata": {
    "ExecuteTime": {
     "end_time": "2018-08-22T12:44:04.053831Z",
     "start_time": "2018-08-22T12:44:03.924203Z"
    }
   },
   "outputs": [],
   "source": [
    "if runEnv == 'test':\n",
    "    !cp dt_opc_test.db dt_opc_test.db.bak"
   ]
  },
  {
   "cell_type": "code",
   "execution_count": 15,
   "metadata": {
    "ExecuteTime": {
     "end_time": "2018-09-13T14:18:43.691216Z",
     "start_time": "2018-09-13T14:18:43.676487Z"
    }
   },
   "outputs": [],
   "source": [
    "test_ref = session.query(Referee).first()"
   ]
  },
  {
   "cell_type": "code",
   "execution_count": null,
   "metadata": {},
   "outputs": [],
   "source": []
  }
 ],
 "metadata": {
  "kernelspec": {
   "display_name": "Python 3",
   "language": "python",
   "name": "python3"
  },
  "language_info": {
   "codemirror_mode": {
    "name": "ipython",
    "version": 3
   },
   "file_extension": ".py",
   "mimetype": "text/x-python",
   "name": "python",
   "nbconvert_exporter": "python",
   "pygments_lexer": "ipython3",
   "version": "3.6.6"
  },
  "toc": {
   "nav_menu": {},
   "number_sections": true,
   "sideBar": true,
   "skip_h1_title": false,
   "toc_cell": false,
   "toc_position": {},
   "toc_section_display": "block",
   "toc_window_display": false
  }
 },
 "nbformat": 4,
 "nbformat_minor": 2
}
